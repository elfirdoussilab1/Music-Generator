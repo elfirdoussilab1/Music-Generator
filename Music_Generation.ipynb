{
  "cells": [
    {
      "cell_type": "markdown",
      "metadata": {
        "id": "uoJsVjtCMunI"
      },
      "source": [
        "# Music Generator with Recurrent Neural Networks\n",
        "## Author: EL Firdoussi Aymane\n",
        "### Reference: [MIT Introduction to Deep Learning]('http://introtodeeplearning.com/')\n",
        " In this notebook, we implement the MIT Music genration Lab using the dataset provided in the Github repository of the lab.\n",
        "\n",
        " \n"
      ]
    },
    {
      "cell_type": "markdown",
      "metadata": {
        "id": "O-97SDET3JG-"
      },
      "source": [
        "\n",
        "\n",
        "# Music Generation with RNNs\n",
        "\n",
        "In this lab, we will explore building a Recurrent Neural Network (RNN) for music generation. We will train a model to learn the patterns in raw sheet music in [ABC notation](https://en.wikipedia.org/wiki/ABC_notation) and then use this model to generate new music."
      ]
    },
    {
      "cell_type": "markdown",
      "metadata": {
        "id": "rsvlBQYCrE4I"
      },
      "source": [
        "## 1.1 Dependencies\n",
        "First, let's download the course repository, install dependencies, and import the relevant packages we'll need for this lab."
      ]
    },
    {
      "cell_type": "code",
      "execution_count": 1,
      "metadata": {
        "colab": {
          "base_uri": "https://localhost:8080/"
        },
        "id": "riVZCVK65QTH",
        "outputId": "aadc2ce0-9b7c-4dc3-f0d2-2b6ee5083eb7"
      },
      "outputs": [],
      "source": [
        "# Import Tensorflow 2.0\n",
        "import tensorflow as tf\n",
        "\n",
        "# Download and import the MIT Introduction to Deep Learning package\n",
        "import mitdeeplearning as mdl\n",
        "\n",
        "# Import all remaining packages\n",
        "import numpy as np\n",
        "import os\n",
        "import time\n",
        "import functools\n",
        "from IPython import display as ipythondisplay\n",
        "from tqdm import tqdm\n",
        "!apt-get install abcmidi timidity > /dev/null 2>&1\n",
        "\n",
        "# Check that we are using a GPU, if not switch runtimes\n",
        "#   using Runtime > Change Runtime Type > GPU\n",
        "#assert len(tf.config.list_physical_devices('GPU')) > 0"
      ]
    },
    {
      "cell_type": "markdown",
      "metadata": {
        "id": "_ajvp0No4qDm"
      },
      "source": [
        "## 1.2 Dataset Loading\n",
        "\n",
        "![Let's Dance!](img/music.gif)\n",
        "\n",
        "We've gathered a dataset of thousands of Irish folk songs, represented in the ABC notation. Let's download the dataset and inspect it:\n"
      ]
    },
    {
      "cell_type": "code",
      "execution_count": 2,
      "metadata": {
        "colab": {
          "base_uri": "https://localhost:8080/"
        },
        "id": "P7dFnP5q3Jve",
        "outputId": "ce295339-6b02-498c-94e7-a523d27490a1"
      },
      "outputs": [
        {
          "name": "stdout",
          "output_type": "stream",
          "text": [
            "Found 817 songs in text\n",
            "\n",
            "Example song: \n",
            "X:1\n",
            "T:Alexander's\n",
            "Z: id:dc-hornpipe-1\n",
            "M:C|\n",
            "L:1/8\n",
            "K:D Major\n",
            "(3ABc|dAFA DFAd|fdcd FAdf|gfge fefd|(3efe (3dcB A2 (3ABc|!\n",
            "dAFA DFAd|fdcd FAdf|gfge fefd|(3efe dc d2:|!\n",
            "AG|FAdA FAdA|GBdB GBdB|Acec Acec|dfaf gecA|!\n",
            "FAdA FAdA|GBdB GBdB|Aceg fefd|(3efe dc d2:|!\n"
          ]
        }
      ],
      "source": [
        "# Download the dataset\n",
        "songs = mdl.lab1.load_training_data()\n",
        "\n",
        "# Print one of the songs to inspect it in greater detail!\n",
        "example_song = songs[0]\n",
        "print(\"\\nExample song: \")\n",
        "print(example_song)"
      ]
    },
    {
      "cell_type": "markdown",
      "metadata": {
        "id": "hKF3EHJlCAj2"
      },
      "source": [
        "We can easily convert a song in ABC notation to an audio waveform and play it back. Be patient for this conversion to run, it can take some time."
      ]
    },
    {
      "cell_type": "code",
      "execution_count": null,
      "metadata": {},
      "outputs": [],
      "source": [
        "# Convert the ABC notation to audio file and listen to it\n",
        "#mdl.lab1.play_song(example_song)\n",
        "mdl.lab1.play_wav('tmp.wav')\n"
      ]
    },
    {
      "cell_type": "markdown",
      "metadata": {},
      "source": [
        "### Finding the set of characters used in the encoding of the songs"
      ]
    },
    {
      "cell_type": "code",
      "execution_count": 7,
      "metadata": {
        "colab": {
          "base_uri": "https://localhost:8080/"
        },
        "id": "IlCgQBRVymwR",
        "outputId": "d27016f4-7ae1-4ad1-ecd5-c82d3af6d86a"
      },
      "outputs": [
        {
          "name": "stdout",
          "output_type": "stream",
          "text": [
            "['\\n', ' ', '!', '\"', '#', \"'\", '(', ')', ',', '-', '.', '/', '0', '1', '2', '3', '4', '5', '6', '7', '8', '9', ':', '<', '=', '>', 'A', 'B', 'C', 'D', 'E', 'F', 'G', 'H', 'I', 'J', 'K', 'L', 'M', 'N', 'O', 'P', 'Q', 'R', 'S', 'T', 'U', 'V', 'W', 'X', 'Y', 'Z', '[', ']', '^', '_', 'a', 'b', 'c', 'd', 'e', 'f', 'g', 'h', 'i', 'j', 'k', 'l', 'm', 'n', 'o', 'p', 'q', 'r', 's', 't', 'u', 'v', 'w', 'x', 'y', 'z', '|']\n",
            "There are 83 unique characters in the dataset\n"
          ]
        }
      ],
      "source": [
        "# Join our list of song strings into a single string containing all songs\n",
        "songs_joined = \"\\n\\n\".join(songs)\n",
        "\n",
        "# Find all unique characters in the joined string\n",
        "vocab = sorted(set(songs_joined))\n",
        "print(vocab)\n",
        "print(\"There are\", len(vocab), \"unique characters in the dataset\")"
      ]
    },
    {
      "cell_type": "markdown",
      "metadata": {
        "id": "rNnrKn_lL-IJ"
      },
      "source": [
        "## 1.3 Processing the dataset for the learning task\n",
        "\n",
        "- **Learning task:** We're trying to train a RNN model to learn patterns in ABC music, and then use this model to generate a new piece of music based on this learned information.\n",
        "\n",
        "- **How ?** To achieve this, we will input a sequence of characters to the model, and train the model to predict the output, that is, the following character at each time step. RNNs maintain an internal state that depends on previously seen elements, so information about all characters seen up until a given moment will be taken into account in generating the prediction.\n"
      ]
    },
    {
      "cell_type": "markdown",
      "metadata": {
        "id": "LFjSVAlWzf-N"
      },
      "source": [
        "### Mapping the characters to indexes and vice versa\n",
        "\n",
        "Before we begin training our RNN model, we'll need to create a numerical representation of our text-based dataset. To do this, we'll generate two lookup tables: one that maps characters to numbers, and a second that maps numbers back to characters. Recall that we just identified the unique characters present in the text."
      ]
    },
    {
      "cell_type": "code",
      "execution_count": 8,
      "metadata": {
        "id": "IalZLbvOzf-F"
      },
      "outputs": [],
      "source": [
        "### Define numerical representation of text ###\n",
        "\n",
        "# Create a mapping from character to unique index.\n",
        "char2idx = {u:i for i, u in enumerate(vocab)}\n",
        "\n",
        "# Create a mapping from indices to characters. This is\n",
        "idx2char = np.array(vocab)"
      ]
    },
    {
      "cell_type": "markdown",
      "metadata": {
        "id": "tZfqhkYCymwX"
      },
      "source": [
        "This gives us an integer representation for each character. Observe that the unique characters (i.e., our vocabulary) in the text are mapped as indices from 0 to `len(unique)`. Let's take a peek at this numerical representation of our dataset:"
      ]
    },
    {
      "cell_type": "code",
      "execution_count": 9,
      "metadata": {
        "colab": {
          "base_uri": "https://localhost:8080/"
        },
        "id": "FYyNlCNXymwY",
        "outputId": "872d5c4c-76f1-4779-bc51-a325bbb37e37"
      },
      "outputs": [
        {
          "name": "stdout",
          "output_type": "stream",
          "text": [
            "{\n",
            "  '\\n':   0,\n",
            "  ' ' :   1,\n",
            "  '!' :   2,\n",
            "  '\"' :   3,\n",
            "  '#' :   4,\n",
            "  \"'\" :   5,\n",
            "  '(' :   6,\n",
            "  ')' :   7,\n",
            "  ',' :   8,\n",
            "  '-' :   9,\n",
            "  '.' :  10,\n",
            "  '/' :  11,\n",
            "  '0' :  12,\n",
            "  '1' :  13,\n",
            "  '2' :  14,\n",
            "  '3' :  15,\n",
            "  '4' :  16,\n",
            "  '5' :  17,\n",
            "  '6' :  18,\n",
            "  '7' :  19,\n",
            "  ...\n",
            "}\n"
          ]
        }
      ],
      "source": [
        "print('{')\n",
        "for char,_ in zip(char2idx, range(20)):\n",
        "    print('  {:4s}: {:3d},'.format(repr(char), char2idx[char]))\n",
        "print('  ...\\n}')"
      ]
    },
    {
      "cell_type": "code",
      "execution_count": 10,
      "metadata": {
        "colab": {
          "base_uri": "https://localhost:8080/"
        },
        "id": "g-LnKyu4dczc",
        "outputId": "cabfcc2a-c834-4500-95bd-bf5ce8603fd7"
      },
      "outputs": [
        {
          "name": "stdout",
          "output_type": "stream",
          "text": [
            "[49 22 13 ... 22 82  2]\n"
          ]
        }
      ],
      "source": [
        "### Vectorize the songs string ###\n",
        "def vectorize_string(string):\n",
        "    vector = np.array([char2idx[char] for char in string])\n",
        "    return vector\n",
        "\n",
        "vectorized_songs = vectorize_string(songs_joined)\n",
        "print(vectorized_songs)"
      ]
    },
    {
      "cell_type": "markdown",
      "metadata": {
        "id": "IqxpSuZ1w-ub"
      },
      "source": [
        "We can also look at how the first part of the text is mapped to an integer representation:"
      ]
    },
    {
      "cell_type": "code",
      "execution_count": 11,
      "metadata": {
        "colab": {
          "base_uri": "https://localhost:8080/"
        },
        "id": "l1VKcQHcymwb",
        "outputId": "7cd47b0b-cfd0-4af7-a3dd-fbe0ed8ac814"
      },
      "outputs": [
        {
          "name": "stdout",
          "output_type": "stream",
          "text": [
            "'X:1\\nT:Alex' ---- characters mapped to int ----> [49 22 13  0 45 22 26 67 60 79]\n"
          ]
        }
      ],
      "source": [
        "print ('{} ---- characters mapped to int ----> {}'.format(repr(songs_joined[:10]), vectorized_songs[:10]))\n",
        "# check that vectorized_songs is a numpy array\n",
        "assert isinstance(vectorized_songs, np.ndarray), \"returned result should be a numpy array\""
      ]
    },
    {
      "cell_type": "markdown",
      "metadata": {
        "id": "hgsVvVxnymwf"
      },
      "source": [
        "### Create training examples and targets\n",
        "\n",
        "Our next step is to actually divide the text into example sequences that we'll use during training. Each input sequence that we feed into our RNN will contain `seq_length` characters from the text. We'll also need to define a target sequence for each input sequence, which will be used in training the RNN to predict the next character. For each input, the corresponding target will contain the same length of text, except shifted one character to the right.\n",
        "\n",
        "To do this, we'll break the text into chunks of `seq_length+1`. Suppose `seq_length` is 4 and our text is \"Hello\". Then, our input sequence is \"Hell\" and the target sequence is \"ello\".\n",
        "\n",
        "The batch method will then let us convert this stream of character indices to sequences of the desired size."
      ]
    },
    {
      "cell_type": "code",
      "execution_count": 12,
      "metadata": {
        "colab": {
          "base_uri": "https://localhost:8080/"
        },
        "id": "LF-N8F7BoDRi",
        "outputId": "af643122-1d69-4f3e-8ae9-d892d5991e07"
      },
      "outputs": [
        {
          "name": "stdout",
          "output_type": "stream",
          "text": [
            "[PASS] test_batch_func_types\n",
            "[PASS] test_batch_func_shapes\n",
            "[PASS] test_batch_func_next_step\n",
            "======\n",
            "[PASS] passed all tests!\n"
          ]
        }
      ],
      "source": [
        "# Batch definition to create training examples\n",
        "def get_batch(vectorized_songs, seq_length, batch_size):\n",
        "    # The length of the vectorized songs string\n",
        "    n = len(vectorized_songs) - 1\n",
        "\n",
        "    # Randomly choosing the startng indices for the examples in the training batch\n",
        "    idx = np.random.choice(n - seq_length, batch_size)\n",
        "\n",
        "    # Constructing a list of input sequences for the training batch\n",
        "    input_batch = [vectorized_songs[i : i + seq_length] for i in idx]\n",
        "    output_batch = [vectorized_songs[i + 1: i + 1 + seq_length] for i in idx]\n",
        "\n",
        "    # x_batch, y_batch provide the true inputs and targets for network training\n",
        "    x_batch = np.reshape(input_batch, [batch_size, seq_length])\n",
        "    y_batch = np.reshape(output_batch, [batch_size, seq_length])\n",
        "\n",
        "    return x_batch, y_batch\n",
        "\n",
        "# Perform some simple tests to make sure your batch function is working properly!\n",
        "test_args = (vectorized_songs, 10, 2)\n",
        "if not mdl.lab1.test_batch_func_types(get_batch, test_args) or \\\n",
        "   not mdl.lab1.test_batch_func_shapes(get_batch, test_args) or \\\n",
        "   not mdl.lab1.test_batch_func_next_step(get_batch, test_args):\n",
        "   print(\"======\\n[FAIL] could not pass tests\")\n",
        "else:\n",
        "   print(\"======\\n[PASS] passed all tests!\")"
      ]
    },
    {
      "cell_type": "markdown",
      "metadata": {
        "id": "_33OHL3b84i0"
      },
      "source": [
        "For each of these vectors, each index is processed at a single time step. So, for the input at time step 0, the model receives the index for the first character in the sequence, and tries to predict the index of the next character. At the next timestep, it does the same thing, but the RNN considers the information from the previous step, i.e., its updated state, in addition to the current input.\n",
        "\n",
        "We can make this concrete by taking a look at how this works over the first several characters in our text:"
      ]
    },
    {
      "cell_type": "code",
      "execution_count": 13,
      "metadata": {
        "colab": {
          "base_uri": "https://localhost:8080/"
        },
        "id": "0eBu9WZG84i0",
        "outputId": "51ba809e-38b1-4f36-b020-f5e6496dcc13"
      },
      "outputs": [
        {
          "name": "stdout",
          "output_type": "stream",
          "text": [
            "Step   0\n",
            "  input: 0 ('\\n')\n",
            "  expected output: 32 ('G')\n",
            "Step   1\n",
            "  input: 32 ('G')\n",
            "  expected output: 27 ('B')\n",
            "Step   2\n",
            "  input: 27 ('B')\n",
            "  expected output: 59 ('d')\n",
            "Step   3\n",
            "  input: 59 ('d')\n",
            "  expected output: 1 (' ')\n",
            "Step   4\n",
            "  input: 1 (' ')\n",
            "  expected output: 62 ('g')\n"
          ]
        }
      ],
      "source": [
        "x_batch, y_batch = get_batch(vectorized_songs, seq_length=5, batch_size=1)\n",
        "\n",
        "for i, (input_idx, target_idx) in enumerate(zip(np.squeeze(x_batch), np.squeeze(y_batch))):\n",
        "    print(\"Step {:3d}\".format(i))\n",
        "    print(\"  input: {} ({:s})\".format(input_idx, repr(idx2char[input_idx])))\n",
        "    print(\"  expected output: {} ({:s})\".format(target_idx, repr(idx2char[target_idx])))"
      ]
    },
    {
      "cell_type": "markdown",
      "metadata": {
        "id": "r6oUuElIMgVx"
      },
      "source": [
        "## 1.4 The Recurrent Neural Network (RNN) model"
      ]
    },
    {
      "cell_type": "markdown",
      "metadata": {
        "id": "m8gPwEjRzf-Z"
      },
      "source": [
        "Now we're ready to define and train a RNN model on our ABC music dataset, and then use that trained model to generate a new song. We'll train our RNN using batches of song snippets from our dataset, which we generated in the previous section.\n",
        "\n",
        "The model is based off the LSTM architecture, where we use a state vector to maintain information about the temporal relationships between consecutive characters. The final output of the LSTM is then fed into a fully connected [`Dense`](https://www.tensorflow.org/api_docs/python/tf/keras/layers/Dense) layer where we'll output a softmax over each character in the vocabulary, and then sample from this distribution to predict the next character.\n",
        "\n",
        "As we introduced in the first portion of this lab, we'll be using the Keras API, specifically, [`tf.keras.Sequential`](https://www.tensorflow.org/api_docs/python/tf/keras/models/Sequential), to define the model. Three layers are used to define the model:\n",
        "\n",
        "* [`tf.keras.layers.Embedding`](https://www.tensorflow.org/api_docs/python/tf/keras/layers/Embedding): This is the input layer, consisting of a trainable lookup table that maps the numbers of each character to a vector with `embedding_dim` dimensions.\n",
        "* [`tf.keras.layers.LSTM`](https://www.tensorflow.org/api_docs/python/tf/keras/layers/LSTM): Our LSTM network, with size `units=rnn_units`.\n",
        "* [`tf.keras.layers.Dense`](https://www.tensorflow.org/api_docs/python/tf/keras/layers/Dense): The output layer, with `vocab_size` outputs.\n",
        "\n",
        "\n",
        "<img src=\"https://raw.githubusercontent.com/aamini/introtodeeplearning/2019/lab1/img/lstm_unrolled-01-01.png\" alt=\"Drawing\"/>"
      ]
    },
    {
      "cell_type": "markdown",
      "metadata": {
        "id": "rlaOqndqBmJo"
      },
      "source": [
        "### Define the RNN model\n",
        "\n",
        "Now, we will define a function that we will use to actually build the model."
      ]
    },
    {
      "cell_type": "code",
      "execution_count": 14,
      "metadata": {
        "id": "8DsWzojvkbc7"
      },
      "outputs": [],
      "source": [
        "def LSTM(rnn_units):\n",
        "  return tf.keras.layers.LSTM(\n",
        "    rnn_units,\n",
        "    return_sequences=True,\n",
        "    recurrent_initializer='glorot_uniform',\n",
        "    recurrent_activation='sigmoid',\n",
        "    stateful=True,\n",
        "  )"
      ]
    },
    {
      "cell_type": "code",
      "execution_count": 15,
      "metadata": {
        "id": "MtCrdfzEI2N0"
      },
      "outputs": [],
      "source": [
        "# Defining the RNN model\n",
        "def build_RNN(vocab_size, embedding_dim, rnn_units, batch_size):\n",
        "    model = tf.keras.Sequential([\n",
        "        # Layer 1: modeling indices from 0 to 82 with vectors with dimesion embedding_dim\n",
        "        tf.keras.layers.Embedding(input_dim = vocab_size,\n",
        "                                  output_dim = embedding_dim,\n",
        "                                  batch_input_shape=[batch_size, None]),\n",
        "\n",
        "        # Layer 2: LSTM\n",
        "        LSTM(rnn_units),\n",
        "\n",
        "        # Layer 3: Dense layer\n",
        "        tf.keras.layers.Dense(units = vocab_size, activation = 'softmax')\n",
        "\n",
        "    ])\n",
        "\n",
        "    return model\n",
        "\n",
        "model = build_RNN(len(vocab), embedding_dim = 256, rnn_units = 1024, batch_size = 32)"
      ]
    },
    {
      "cell_type": "markdown",
      "metadata": {
        "id": "-ubPo0_9Prjb"
      },
      "source": [
        "### Test out the RNN model\n",
        "\n",
        "It's always a good idea to run a few simple checks on our model to see that it behaves as expected.  \n",
        "\n",
        "First, we can use the `Model.summary` function to print out a summary of our model's internal workings. Here we can check the layers in the model, the shape of the output of each of the layers, the batch size, etc."
      ]
    },
    {
      "cell_type": "code",
      "execution_count": 16,
      "metadata": {
        "colab": {
          "base_uri": "https://localhost:8080/"
        },
        "id": "RwG1DD6rDrRM",
        "outputId": "a666bb0c-d3e8-42fd-c617-94214b6bc250"
      },
      "outputs": [
        {
          "name": "stdout",
          "output_type": "stream",
          "text": [
            "Model: \"sequential\"\n",
            "_________________________________________________________________\n",
            " Layer (type)                Output Shape              Param #   \n",
            "=================================================================\n",
            " embedding (Embedding)       (32, None, 256)           21248     \n",
            "                                                                 \n",
            " lstm (LSTM)                 (32, None, 1024)          5246976   \n",
            "                                                                 \n",
            " dense (Dense)               (32, None, 83)            85075     \n",
            "                                                                 \n",
            "=================================================================\n",
            "Total params: 5353299 (20.42 MB)\n",
            "Trainable params: 5353299 (20.42 MB)\n",
            "Non-trainable params: 0 (0.00 Byte)\n",
            "_________________________________________________________________\n"
          ]
        }
      ],
      "source": [
        "model.summary()"
      ]
    },
    {
      "cell_type": "markdown",
      "metadata": {
        "id": "D4yHyCiY2W_G"
      },
      "source": [
        "----\n",
        "### Comment on this model:\n",
        "We transform each index (from 0 to 82) to a vector of size 256 with the embedding technique, and then feed it to LSTM layer (which is the $h$ is our study) which is formed with 1024 (rnn_units) neurons, i.e:\n",
        "$$ h = W_{xh} x + b $$\n",
        "where: $x \\in \\{ 0, .., 82\\}^{256}$ (vector of size embedding_dim), and $W_{xh} \\in \\mathbb{R}^{ 1024 \\times 100}$ and $h \\in \\mathbb{R}^{1024}$. Then we predict the output by feeding $h$ to a dense layer and use the softmax activation function, i.e:\n",
        "$$ \\widehat{y} = softmax(W_{hy} h + c)  $$\n",
        "where $W_{hy} \\in \\mathbb{R}^{ 83 \\times 1024}$ and $c \\in \\mathbb{R}^{83}$.\n",
        "\n",
        "And this is done for every 32 (batch size) samples.\n",
        "\n",
        "----"
      ]
    },
    {
      "cell_type": "markdown",
      "metadata": {
        "id": "8xeDn5nZD0LX"
      },
      "source": [
        "We can also quickly check the dimensionality of our output, using a sequence length of 100. Note that the model can be run on inputs of any length."
      ]
    },
    {
      "cell_type": "code",
      "execution_count": 17,
      "metadata": {
        "colab": {
          "base_uri": "https://localhost:8080/"
        },
        "id": "C-_70kKAPrPU",
        "outputId": "87cdbe83-d1e0-41b4-b057-170cc11b1729"
      },
      "outputs": [
        {
          "name": "stdout",
          "output_type": "stream",
          "text": [
            "Input shape:       (32, 100)  # (batch_size, sequence_length)\n",
            "Prediction shape:  (32, 100, 83) # (batch_size, sequence_length, vocab_size)\n",
            "Training labels shape: (32, 100)\n"
          ]
        }
      ],
      "source": [
        "x, y = get_batch(vectorized_songs, seq_length=100, batch_size=32)\n",
        "pred = model(x)\n",
        "print(\"Input shape:      \", x.shape, \" # (batch_size, sequence_length)\")\n",
        "print(\"Prediction shape: \", pred.shape, \"# (batch_size, sequence_length, vocab_size)\")\n",
        "print(f\"Training labels shape: {y.shape}\")"
      ]
    },
    {
      "cell_type": "markdown",
      "metadata": {
        "id": "mT1HvFVUGpoE"
      },
      "source": [
        "### Predictions from the untrained model\n",
        "\n",
        "Let's take a look at what our untrained model is predicting.\n",
        "\n",
        "To get actual predictions from the model, we sample from the output distribution, which is defined by a `softmax` over our character vocabulary. This will give us actual character indices. This means we are using a [categorical distribution](https://en.wikipedia.org/wiki/Categorical_distribution) to sample over the example prediction. This gives a prediction of the next character (specifically its index) at each timestep.\n",
        "\n",
        "Note here that we sample from this probability distribution, as opposed to simply taking the `argmax`, which can cause the model to get stuck in a loop.\n",
        "\n",
        "Let's try this sampling out for the first example in the batch."
      ]
    },
    {
      "cell_type": "code",
      "execution_count": 18,
      "metadata": {
        "colab": {
          "base_uri": "https://localhost:8080/"
        },
        "id": "4V4MfFg0RQJg",
        "outputId": "3ccf7abc-1a93-41a5-8ca0-46be702d8e37"
      },
      "outputs": [
        {
          "data": {
            "text/plain": [
              "array([16, 37, 77, 51, 31, 41, 69, 72, 65, 24, 79, 33, 75, 56, 36, 28, 63,\n",
              "       52, 70, 36, 71,  9, 35, 16, 62, 21,  9, 14,  7, 61, 52, 47, 36,  5,\n",
              "       24, 52, 24, 53, 10, 57, 63, 51, 43, 14, 18, 37, 70, 18, 66,  3, 24,\n",
              "       11, 73, 20,  1, 23, 61, 76, 48, 18, 58, 42,  5, 18, 65, 40,  6, 44,\n",
              "       79, 23, 43, 81, 80, 27,  1, 10, 67, 70,  5, 21, 57, 57, 49, 76, 50,\n",
              "       48, 57, 36, 12, 59, 48, 57,  4,  8, 47, 72, 69, 36, 25, 51])"
            ]
          },
          "execution_count": 18,
          "metadata": {},
          "output_type": "execute_result"
        }
      ],
      "source": [
        "# We will randomly pick an output sequence from the outputs of the first batch\n",
        "# pred[0] is of shape (100, 83)\n",
        "sampled_indices = tf.random.categorical(pred[0], num_samples=1)\n",
        "\n",
        "# sampled_indices is of shape (100, 1)\n",
        "sampled_indices = tf.squeeze(sampled_indices,axis=-1).numpy()\n",
        "sampled_indices"
      ]
    },
    {
      "cell_type": "markdown",
      "metadata": {
        "id": "LfLtsP3mUhCG"
      },
      "source": [
        "We can now decode these to see the text predicted by the untrained model:"
      ]
    },
    {
      "cell_type": "code",
      "execution_count": 19,
      "metadata": {
        "colab": {
          "base_uri": "https://localhost:8080/"
        },
        "id": "xWcFwPwLSo05",
        "outputId": "42ff3646-54ff-4ebb-cf6e-7e412650facf"
      },
      "outputs": [
        {
          "name": "stdout",
          "output_type": "stream",
          "text": [
            "Input: \n",
            " '2/4\\nL:1/8\\nK:D Major\\nFA Ad|B/c/d/B/ AF|GB AF/A/|BE G/F/E/D/|!\\nFA Ad|B/c/d/B/ AF|GB A/B/A/G/|FD DE:|!\\n'\n",
            "\n",
            "Next Char Predictions: \n",
            " '4LvZFPnqj=xHtaKCh[oKp-J4g9-2)f[VK\\'=[=].bhZR26Lo6k\"=/r8 <fuW6cQ\\'6jO(Sx<RzyB .lo\\'9bbXuYWbK0dWb#,VqnK>Z'\n"
          ]
        }
      ],
      "source": [
        "print(\"Input: \\n\", repr(\"\".join(idx2char[x[0]])))\n",
        "\n",
        "print(\"\\nNext Char Predictions: \\n\", repr(\"\".join(idx2char[sampled_indices])))"
      ]
    },
    {
      "cell_type": "markdown",
      "metadata": {
        "id": "HEHHcRasIDm9"
      },
      "source": [
        "As we can see, the text predicted by the untrained model is pretty nonsensical! How can we do better? We can train the network!"
      ]
    },
    {
      "cell_type": "markdown",
      "metadata": {
        "id": "LJL0Q0YPY6Ee"
      },
      "source": [
        "## 1.5 Training the model: loss and training operations\n",
        "\n",
        "Now it's time to train the model!\n",
        "\n",
        "At this point, we can think of our next character prediction problem as a standard classification problem. Given the previous state of the RNN, as well as the input at a given time step, we want to predict the class of the next character -- that is, to actually predict the next character.\n",
        "\n",
        "To train our model on this classification task, we can use a form of the `crossentropy` loss (negative log likelihood loss). Specifically, we will use the [`sparse_categorical_crossentropy`](https://www.tensorflow.org/api_docs/python/tf/keras/losses/sparse_categorical_crossentropy) loss, as it utilizes integer targets for categorical classification tasks. We will want to compute the loss using the true targets -- the `labels` -- and the predicted targets -- the `logits`.\n",
        "\n",
        "Let's first compute the loss using our example predictions from the untrained model:"
      ]
    },
    {
      "cell_type": "markdown",
      "metadata": {
        "id": "xw19qB5nRsC1"
      },
      "source": [
        "### Loss function:\n",
        "\n",
        "[`keras.losses.sparse_categorical_crossentropy`](https://www.tensorflow.org/api_docs/python/tf/keras/losses/sparse_categorical_crossentropy) is the cross-entropy loss that takes three arguments:\n",
        "- **y_true:** which is the class of the true label in $\\mathbb{N}$\n",
        "- **y_pred:** which is the output of the softmax (i.e a vector not a class directly)\n",
        "- **from_logits:** Whether y_pred is expected to be a logits tensor (containing the values obtained by the softmax). By default, we assume that y_pred encodes a probability distribution."
      ]
    },
    {
      "cell_type": "code",
      "execution_count": 21,
      "metadata": {
        "colab": {
          "base_uri": "https://localhost:8080/"
        },
        "id": "4HrXTACTdzY-",
        "outputId": "81707e3e-a167-4c95-9eef-5e45dd92d31d"
      },
      "outputs": [
        {
          "name": "stdout",
          "output_type": "stream",
          "text": [
            "Prediction shape : (32, 100, 83)\n",
            "Scalar loss: 4.418315410614014\n"
          ]
        }
      ],
      "source": [
        "# Defining the loss function\n",
        "def compute_loss(labels, logits):\n",
        "    return tf.keras.losses.sparse_categorical_crossentropy(y_true = labels, y_pred = logits, from_logits=True)\n",
        "\n",
        "example_batch_loss = compute_loss(y, pred)\n",
        "print(f\"Prediction shape : {pred.shape}\")\n",
        "print(f\"Scalar loss: {example_batch_loss.numpy().mean()}\")"
      ]
    },
    {
      "cell_type": "markdown",
      "metadata": {
        "id": "0Seh7e6eRqd7"
      },
      "source": [
        "## Hyperparameters:\n",
        "Let's start by defining some hyperparameters for training the model."
      ]
    },
    {
      "cell_type": "code",
      "execution_count": 22,
      "metadata": {
        "id": "JQWUUhKotkAY"
      },
      "outputs": [],
      "source": [
        "### Hyperparameter setting and optimization ###\n",
        "\n",
        "# Optimization parameters:\n",
        "num_training_iterations = 3000  # Increase this to train longer\n",
        "batch_size = 32  # Experiment between 1 and 64\n",
        "seq_length = 300  # Experiment between 50 and 500\n",
        "lr = 1e-3 # Learning rate: Experiment between 1e-5 and 1e-1\n",
        "\n",
        "# Storage of the model\n",
        "checkpoint_dir = './training_checkpoints'\n",
        "checkpoint_prefix = os.path.join(checkpoint_dir, \"my_ckpt\")"
      ]
    },
    {
      "cell_type": "markdown",
      "metadata": {
        "id": "5cu11p1MKYZd"
      },
      "source": [
        "### Optimizer and backpropagation\n",
        "\n",
        "Some optimizers that we can like to try are [`Adam`](https://www.tensorflow.org/api_docs/python/tf/keras/optimizers/Adam?version=stable) and [`Adagrad`](https://www.tensorflow.org/api_docs/python/tf/keras/optimizers/Adagrad?version=stable).\n",
        "\n",
        "First, we will instantiate a new model and an optimizer. Then, we will use the [`tf.GradientTape`](https://www.tensorflow.org/api_docs/python/tf/GradientTape) method to perform the backpropagation operations.\n",
        "\n",
        "We will also generate a print-out of the model's progress through training, which will help us easily visualize whether or not we are minimizing the loss."
      ]
    },
    {
      "cell_type": "code",
      "execution_count": 127,
      "metadata": {
        "id": "F31vzJ_u66cb"
      },
      "outputs": [],
      "source": [
        "# Model parameters:\n",
        "vocab_size = len(vocab)\n",
        "embedding_dim = 256\n",
        "rnn_units = 1024  # Experiment between 1 and 2048\n",
        "\n",
        "# Instantiating the model\n",
        "model = build_RNN(vocab_size, embedding_dim, rnn_units, batch_size)\n",
        "\n",
        "# Defining an optimizer\n",
        "optimizer = tf.keras.optimizers.Adam(\n",
        "    learning_rate= lr,\n",
        "    weight_decay=0.5,\n",
        "    ema_momentum=0.99,\n",
        "    ema_overwrite_frequency=None,\n",
        "    jit_compile=True,\n",
        "    name='Adam')\n",
        "\n",
        "# Decorator: @tf.function is used in TensorFlow to convert\n",
        "# #Python functions into optimized TensorFlow computational graphs.\n",
        "@tf.function\n",
        "def train_step(x, y):\n",
        "    # Use tf.GradientTape()\n",
        "    with tf.GradientTape() as tape:\n",
        "        # Prediction: forward\n",
        "        y_hat = model(x)\n",
        "\n",
        "        # loss\n",
        "        loss = compute_loss(y, y_hat)\n",
        "\n",
        "        # Compute gradients\n",
        "        gradients = tape.gradient(loss, model.trainable_variables)\n",
        "\n",
        "        # Applying the gradients to the optimizer\n",
        "        optimizer.apply_gradients(zip(gradients, model.trainable_variables))\n",
        "\n",
        "        return loss"
      ]
    },
    {
      "cell_type": "code",
      "execution_count": 128,
      "metadata": {
        "colab": {
          "base_uri": "https://localhost:8080/",
          "height": 919
        },
        "id": "NcWVSANVSGjm",
        "outputId": "130b61af-cbb4-49e1-9b4f-d33b97a4bb82"
      },
      "outputs": [
        {
          "data": {
            "image/png": "[encoded data removed]",
            "text/plain": [
              "<Figure size 640x480 with 1 Axes>"
            ]
          },
          "metadata": {},
          "output_type": "display_data"
        },
        {
          "name": "stderr",
          "output_type": "stream",
          "text": [
            "100%|██████████| 3000/3000 [07:01<00:00,  7.12it/s]\n"
          ]
        },
        {
          "data": {
            "image/png": "[encoded data removed]",
            "text/plain": [
              "<Figure size 640x480 with 1 Axes>"
            ]
          },
          "metadata": {},
          "output_type": "display_data"
        }
      ],
      "source": [
        "# Training\n",
        "history = []\n",
        "plotter = mdl.util.PeriodicPlotter(sec=2, xlabel='Iterations', ylabel='Loss')\n",
        "if hasattr(tqdm, '_instances'): tqdm._instances.clear() # clear if it exists\n",
        "\n",
        "for iter in tqdm(range(num_training_iterations)):\n",
        "    # Grabing a batch and propagating it through the network\n",
        "    x_batch, y_batch = get_batch(vectorized_songs, seq_length, batch_size)\n",
        "    loss = train_step(x_batch, y_batch)\n",
        "\n",
        "    # Update the progress bar\n",
        "    history.append(loss.numpy().mean())\n",
        "    plotter.plot(history)\n",
        "\n",
        "    # Updating the model with the new weights\n",
        "    if iter % 100 == 0:\n",
        "        model.save_weights(checkpoint_prefix)\n",
        "\n",
        "# Saving the trained model and the weights\n",
        "model.save_weights(checkpoint_prefix)\n"
      ]
    },
    {
      "cell_type": "code",
      "execution_count": 129,
      "metadata": {
        "colab": {
          "base_uri": "https://localhost:8080/"
        },
        "id": "MkKEeGwDVPO8",
        "outputId": "ca4d3512-57dc-462d-c918-431a5cd6ec08"
      },
      "outputs": [
        {
          "name": "stdout",
          "output_type": "stream",
          "text": [
            "Final loss is 0.14717592298984528\n"
          ]
        }
      ],
      "source": [
        "print(f\"Final loss is {history[-1]}\")"
      ]
    },
    {
      "cell_type": "markdown",
      "metadata": {
        "id": "kKkD5M6eoSiN"
      },
      "source": [
        "## 1.6 Generating music using the RNN model\n",
        "\n",
        "Now, we can use our trained RNN model to generate some music! When generating music, we'll have to feed the model some sort of seed to get it started (because it can't predict anything without something to start with!).\n",
        "\n",
        "Once we have a generated seed, we can then iteratively predict each successive character (remember, we are using the ABC representation for our music) using our trained RNN. More specifically, recall that our RNN outputs a `softmax` over possible successive characters. For inference, we iteratively sample from these distributions, and then use our samples to encode a generated song in the ABC format.\n",
        "\n",
        "Then, all we have to do is write it to a file and listen!"
      ]
    },
    {
      "cell_type": "markdown",
      "metadata": {
        "id": "JIPcXllKjkdr"
      },
      "source": [
        "### Loading an existing model\n",
        "This cell is important because it shows us how we can restore a model that was already trained !"
      ]
    },
    {
      "cell_type": "code",
      "execution_count": 32,
      "metadata": {
        "colab": {
          "base_uri": "https://localhost:8080/"
        },
        "id": "LycQ-ot_jjyu",
        "outputId": "7058dab6-da0a-47a2-bf63-fe79fc44ad48"
      },
      "outputs": [
        {
          "name": "stdout",
          "output_type": "stream",
          "text": [
            "Model: \"sequential_4\"\n",
            "_________________________________________________________________\n",
            " Layer (type)                Output Shape              Param #   \n",
            "=================================================================\n",
            " embedding_4 (Embedding)     (1, None, 256)            21248     \n",
            "                                                                 \n",
            " lstm_4 (LSTM)               (1, None, 1024)           5246976   \n",
            "                                                                 \n",
            " dense_4 (Dense)             (1, None, 83)             85075     \n",
            "                                                                 \n",
            "=================================================================\n",
            "Total params: 5353299 (20.42 MB)\n",
            "Trainable params: 5353299 (20.42 MB)\n",
            "Non-trainable params: 0 (0.00 Byte)\n",
            "_________________________________________________________________\n"
          ]
        }
      ],
      "source": [
        "# Rebuilding the model using a batch_size=1\n",
        "model = build_RNN(len(vocab), embedding_dim=256, rnn_units=1024, batch_size=1)\n",
        "\n",
        "# Restore the model weights for the last checkpoint after training\n",
        "model.load_weights(tf.train.latest_checkpoint(checkpoint_dir))\n",
        "model.build(tf.TensorShape([1, None]))\n",
        "\n",
        "model.summary()"
      ]
    },
    {
      "cell_type": "markdown",
      "metadata": {
        "id": "I9b4V2C8N62l"
      },
      "source": [
        "Notice that we have fed in a fixed `batch_size` of 1 for inference."
      ]
    },
    {
      "cell_type": "markdown",
      "metadata": {
        "id": "DjGz1tDkzf-u"
      },
      "source": [
        "### The prediction procedure\n",
        "\n",
        "Now, we're ready to write the code to generate text in the ABC music format:\n",
        "\n",
        "* Initialize a \"seed\" start string and the RNN state, and set the number of characters we want to generate.\n",
        "\n",
        "* Use the start string and the RNN state to obtain the probability distribution over the next predicted character.\n",
        "\n",
        "* Sample from multinomial distribution to calculate the index of the predicted character. This predicted character is then used as the next input to the model.\n",
        "\n",
        "* At each time step, the updated RNN state is fed back into the model, so that it now has more context in making the next prediction. After predicting the next character, the updated RNN states are again fed back into the model, which is how it learns sequence dependencies in the data, as it gets more information from the previous predictions.\n",
        "\n",
        "![LSTM inference](https://raw.githubusercontent.com/aamini/introtodeeplearning/2019/lab1/img/lstm_inference.png)\n",
        "\n",
        "Complete and experiment with this code block (as well as some of the aspects of network definition and training!), and see how the model performs. How do songs generated after training with a small number of epochs compare to those generated after a longer duration of training?"
      ]
    },
    {
      "cell_type": "code",
      "execution_count": 33,
      "metadata": {
        "id": "WvuwZBX5Ogfd"
      },
      "outputs": [],
      "source": [
        "# Generating a song\n",
        "\n",
        "def generate_text(model, start_string, generation_length = 1000):\n",
        "    # Evaluation step (generating ABC text using learned RNN)\n",
        "    input_eval = vectorize_string(start_string)\n",
        "    input_eval = tf.expand_dims(input_eval, 0) # shape (1, 1)\n",
        "    # Empty string to store our results\n",
        "    text_generated =[]\n",
        "\n",
        "    # Here batch_size = 1\n",
        "    model.reset_states()\n",
        "    tqdm._instances.clear()\n",
        "\n",
        "    for i in tqdm(range(generation_length)):\n",
        "        # Forward: it will give a 3-d tensor of shape (1, 1, 83) (first 1: batch_size, second 1: how many inputs we predicted)\n",
        "        predictions = model(input_eval)\n",
        "\n",
        "        # Remove the batch dimension: give a shape (1, 83)\n",
        "        predictions = tf.squeeze(predictions, 0)\n",
        "\n",
        "        # Taking the maximum of the softmax\n",
        "        predicted_id = tf.argmax(predictions[0]).numpy()\n",
        "\n",
        "        # Pass the prediction along with the previous hidden state\n",
        "        #  as the next inputs to the model\n",
        "        input_eval = tf.expand_dims([predicted_id], 0)\n",
        "\n",
        "        # Adding the predicted character to the generated text\n",
        "        # Hint: consider what format the prediction is in vs. the output\n",
        "        text_generated.append(idx2char[predicted_id])\n",
        "\n",
        "    return (start_string + \"\".join(text_generated))"
      ]
    },
    {
      "cell_type": "code",
      "execution_count": 134,
      "metadata": {
        "colab": {
          "base_uri": "https://localhost:8080/"
        },
        "id": "ktovv0RFhrkn",
        "outputId": "feae0fb5-248f-499d-ab82-178c98f08fe9"
      },
      "outputs": [
        {
          "name": "stderr",
          "output_type": "stream",
          "text": [
            "100%|██████████| 1000/1000 [00:10<00:00, 99.04it/s]"
          ]
        },
        {
          "name": "stdout",
          "output_type": "stream",
          "text": [
            "\n",
            "X:1/8\n",
            "K:K:1/8\n",
            "K:K:1/8\n",
            "K:K:1/8\n",
            "K:K:1/8\n",
            "K:K:1/8\n",
            "K:K:1/8\n",
            "K:1/8\n",
            "K:D Mixolydian\n",
            "A|FDF A2B|cAd cAG|Ad^c d2e|fed cAG|!\n",
            "FDF A2B|cAd cAG|Ade fge|ed^c d2:|!\n",
            "g|fdg fdc|Adc Ade|f3 fed|AB^c dfg|!\n",
            "a3 g3|fed cAG|Ade fge|ed^c d2:|!\n",
            "\n",
            "X:28\n",
            "T:Con Cassidy's\n",
            "Z: id:dc-jig-22\n",
            "M:6/8\n",
            "L:1/8\n",
            "K:G Major\n",
            "dc|BAB cBc|dgg d2g|fed cAF|Ggg d2c|!\n",
            "BAB cBc|dgg d2g|fed cAF|G3 G:|!\n",
            "Bd|gGG FGG|efg d2c|BA^G Aag|fed efg|!\n",
            "a2f gfe|fed fga|gfe def|gGG G:|!\n",
            "\n",
            "X:29\n",
            "T:Connaught Man's Rambles\n",
            "Z: id:dc-jig-23\n",
            "M:6/8\n",
            "L:1/8\n",
            "K:D Major\n",
            "E|F3 AFE|EDB, A,B,D|FEF GFG|ABF AFE|!\n",
            "F3 AFE|EDB, A,B,D|FEF GFG|BAF D2:|!\n",
            "e|f2d dcd|edc Bcd|f2d dcd|ABF Ade|!\n",
            "f2d dcd|edc Bcd|faf gec|dec d2:|!\n",
            "\n",
            "X:158\n",
            "T:Tripping Up the Stairs\n",
            "Z: id:dc-jig-135\n",
            "M:6/8\n",
            "L:1/8\n",
            "K:D Major\n",
            "E|F3 AFE|EDB, A,B,D|FEF GFG|ABF AFE|!\n",
            "F3 AFE|EDB, A,B,D|FEF GFG|BAF D2:|!\n",
            "e|f2d dcd|edc Bcd|f2d dcd|ABF Ade|!\n",
            "f2d dcd|edc Bcd|faf gec|dec d2:|!\n",
            "\n",
            "X:158\n",
            "T:Tripping Up the Stairs\n",
            "Z: id:dc-jig-135\n",
            "M:6/8\n",
            "L:1/8\n",
            "K:D Major\n",
            "E|F3 AFE|EDB, A,B,D|FEF GFG|ABF AFE|!\n",
            "F3 AFE|EDB, A,B,D|FEF GFG|BAF D2:|!\n",
            "e|f2d dcd|e\n"
          ]
        },
        {
          "name": "stderr",
          "output_type": "stream",
          "text": [
            "\n"
          ]
        }
      ],
      "source": [
        "# Testing\n",
        "generated_text = generate_text(model, start_string=\"X\", generation_length=1000)\n",
        "print(\"\\n\" + generated_text)"
      ]
    },
    {
      "cell_type": "markdown",
      "metadata": {
        "id": "AM2Uma_-yVIq"
      },
      "source": [
        "### Play back the generated music!\n",
        "\n",
        "We can now call a function to convert the ABC format text to an audio file, and then play that back to check out our generated music! Try training longer if the resulting song is not long enough, or re-generating the song!"
      ]
    },
    {
      "cell_type": "code",
      "execution_count": null,
      "metadata": {},
      "outputs": [],
      "source": [
        "## Generating the song\n",
        "generated_songs = mdl.lab1.extract_song_snippet(generated_text)\n",
        "\n",
        "for i, song in enumerate(generated_songs):\n",
        "    # Synthesize the waveform from a song\n",
        "    waveform = mdl.lab1.play_song(song)\n",
        "    print(waveform)\n",
        "\n",
        "    if waveform:\n",
        "        print(\"Generated song\", i)\n",
        "        ipythondisplay.display(waveform)"
      ]
    },
    {
      "cell_type": "markdown",
      "metadata": {
        "id": "TkI6tcpBcjQ_"
      },
      "source": [
        "This was an example that was generated before."
      ]
    },
    {
      "cell_type": "code",
      "execution_count": 1,
      "metadata": {},
      "outputs": [
        {
          "name": "stdout",
          "output_type": "stream",
          "text": [
            "X:818\n",
            "T:Alexander's\n",
            "Z: id:dc-hornpipe-1\n",
            "M:C|\n",
            "L:1/8\n",
            "K:D Major\n",
            "B|A3B AFDF|A2FD GECE|A3d BdAG|FDD2 EFGE|!\n",
            "A3B AFDF|A2FD GECE|A3d BdAG|FDD2 EFGE|!\n",
            "A3B AFDF|A2FD GECE|A3d BdAG|FDD2 EFGE|!\n",
            "A3B AFDF|A2FD GECE|A3d BdAG|FDD2 EFGE|!\n",
            "A3B AFDF|A2FD GECE|A3d BdAG|FDD2 EFGE|!\n",
            "A3B AFDF|A2FD GECE|A3d Bd\n"
          ]
        }
      ],
      "source": [
        "head = '''X:818\n",
        "T:Alexander's\n",
        "Z: id:dc-hornpipe-1\n",
        "M:C|\n",
        "L:1/8\n",
        "K:D Major\n",
        "'''\n",
        "final_song = head + '''B|A3B AFDF|A2FD GECE|A3d BdAG|FDD2 EFGE|!\n",
        "A3B AFDF|A2FD GECE|A3d BdAG|FDD2 EFGE|!\n",
        "A3B AFDF|A2FD GECE|A3d BdAG|FDD2 EFGE|!\n",
        "A3B AFDF|A2FD GECE|A3d BdAG|FDD2 EFGE|!\n",
        "A3B AFDF|A2FD GECE|A3d BdAG|FDD2 EFGE|!\n",
        "A3B AFDF|A2FD GECE|A3d Bd'''\n",
        "print(final_song)"
      ]
    },
    {
      "cell_type": "markdown",
      "metadata": {},
      "source": [
        "----------"
      ]
    }
  ],
  "metadata": {
    "accelerator": "GPU",
    "colab": {
      "gpuType": "T4",
      "provenance": []
    },
    "kernelspec": {
      "display_name": "Python 3",
      "name": "python3"
    },
    "language_info": {
      "codemirror_mode": {
        "name": "ipython",
        "version": 3
      },
      "file_extension": ".py",
      "mimetype": "text/x-python",
      "name": "python",
      "nbconvert_exporter": "python",
      "pygments_lexer": "ipython3",
      "version": "3.9.6"
    }
  },
  "nbformat": 4,
  "nbformat_minor": 0
}
